{
 "cells": [
  {
   "cell_type": "code",
   "execution_count": 5,
   "id": "initial_id",
   "metadata": {
    "collapsed": true,
    "ExecuteTime": {
     "end_time": "2024-02-14T20:10:51.627490570Z",
     "start_time": "2024-02-14T20:10:51.625991222Z"
    }
   },
   "outputs": [],
   "source": [
    "import pandas as pd"
   ]
  },
  {
   "cell_type": "code",
   "outputs": [],
   "source": [
    "df = pd.read_excel('./file1.0.xlsx')"
   ],
   "metadata": {
    "collapsed": false,
    "ExecuteTime": {
     "end_time": "2024-02-14T20:59:11.860170985Z",
     "start_time": "2024-02-14T20:59:11.816945699Z"
    }
   },
   "id": "10d00c1f57c172d8",
   "execution_count": 96
  },
  {
   "cell_type": "code",
   "outputs": [
    {
     "data": {
      "text/plain": "    год     Hb    Er     Tr    Rt    Le   Lym   MCH   MCV MCHC  Ig M   Ig G  \\\n0  11.0  101.0  2.50  84.12  12.2  3.65  2.22  33.4   101  331  0.62    3.9   \n1   7.0   80.8  2.06   3.35   7.0  3.24  2.89  31.3  82.3  380  1.04   8.99   \n2   8.0   99.0  3.61  18.00   NaN  1.50  0.74   NaN   NaN  NaN   NaN    NaN   \n3  15.0   85.3  2.64   1.00  16.3  3.27  2.67  33.3  91.7  363  0.77  11.05   \n4   8.0  102.0  3.43  14.70  47.3  3.23  2.72  29.6  80.6  367  0.93   9.33   \n\n   трепан  миел:Ne Lym.1   МКЦ  CD34      p      с  \n0    80.0     33.8    29  10.0   0.2  0.037    NaN  \n1    95.0      8.2  73.6   NaN  0.12    NaN  0.560  \n2    98.0     15.2    63   NaN   NaN  0.015  0.220  \n3    89.0      1.8  90.6   NaN  0.94  0.066  0.720  \n4    80.0     45.2  33.6   NaN   0.1  0.048  0.264  ",
      "text/html": "<div>\n<style scoped>\n    .dataframe tbody tr th:only-of-type {\n        vertical-align: middle;\n    }\n\n    .dataframe tbody tr th {\n        vertical-align: top;\n    }\n\n    .dataframe thead th {\n        text-align: right;\n    }\n</style>\n<table border=\"1\" class=\"dataframe\">\n  <thead>\n    <tr style=\"text-align: right;\">\n      <th></th>\n      <th>год</th>\n      <th>Hb</th>\n      <th>Er</th>\n      <th>Tr</th>\n      <th>Rt</th>\n      <th>Le</th>\n      <th>Lym</th>\n      <th>MCH</th>\n      <th>MCV</th>\n      <th>MCHC</th>\n      <th>Ig M</th>\n      <th>Ig G</th>\n      <th>трепан</th>\n      <th>миел:Ne</th>\n      <th>Lym.1</th>\n      <th>МКЦ</th>\n      <th>CD34</th>\n      <th>p</th>\n      <th>с</th>\n    </tr>\n  </thead>\n  <tbody>\n    <tr>\n      <th>0</th>\n      <td>11.0</td>\n      <td>101.0</td>\n      <td>2.50</td>\n      <td>84.12</td>\n      <td>12.2</td>\n      <td>3.65</td>\n      <td>2.22</td>\n      <td>33.4</td>\n      <td>101</td>\n      <td>331</td>\n      <td>0.62</td>\n      <td>3.9</td>\n      <td>80.0</td>\n      <td>33.8</td>\n      <td>29</td>\n      <td>10.0</td>\n      <td>0.2</td>\n      <td>0.037</td>\n      <td>NaN</td>\n    </tr>\n    <tr>\n      <th>1</th>\n      <td>7.0</td>\n      <td>80.8</td>\n      <td>2.06</td>\n      <td>3.35</td>\n      <td>7.0</td>\n      <td>3.24</td>\n      <td>2.89</td>\n      <td>31.3</td>\n      <td>82.3</td>\n      <td>380</td>\n      <td>1.04</td>\n      <td>8.99</td>\n      <td>95.0</td>\n      <td>8.2</td>\n      <td>73.6</td>\n      <td>NaN</td>\n      <td>0.12</td>\n      <td>NaN</td>\n      <td>0.560</td>\n    </tr>\n    <tr>\n      <th>2</th>\n      <td>8.0</td>\n      <td>99.0</td>\n      <td>3.61</td>\n      <td>18.00</td>\n      <td>NaN</td>\n      <td>1.50</td>\n      <td>0.74</td>\n      <td>NaN</td>\n      <td>NaN</td>\n      <td>NaN</td>\n      <td>NaN</td>\n      <td>NaN</td>\n      <td>98.0</td>\n      <td>15.2</td>\n      <td>63</td>\n      <td>NaN</td>\n      <td>NaN</td>\n      <td>0.015</td>\n      <td>0.220</td>\n    </tr>\n    <tr>\n      <th>3</th>\n      <td>15.0</td>\n      <td>85.3</td>\n      <td>2.64</td>\n      <td>1.00</td>\n      <td>16.3</td>\n      <td>3.27</td>\n      <td>2.67</td>\n      <td>33.3</td>\n      <td>91.7</td>\n      <td>363</td>\n      <td>0.77</td>\n      <td>11.05</td>\n      <td>89.0</td>\n      <td>1.8</td>\n      <td>90.6</td>\n      <td>NaN</td>\n      <td>0.94</td>\n      <td>0.066</td>\n      <td>0.720</td>\n    </tr>\n    <tr>\n      <th>4</th>\n      <td>8.0</td>\n      <td>102.0</td>\n      <td>3.43</td>\n      <td>14.70</td>\n      <td>47.3</td>\n      <td>3.23</td>\n      <td>2.72</td>\n      <td>29.6</td>\n      <td>80.6</td>\n      <td>367</td>\n      <td>0.93</td>\n      <td>9.33</td>\n      <td>80.0</td>\n      <td>45.2</td>\n      <td>33.6</td>\n      <td>NaN</td>\n      <td>0.1</td>\n      <td>0.048</td>\n      <td>0.264</td>\n    </tr>\n  </tbody>\n</table>\n</div>"
     },
     "execution_count": 97,
     "metadata": {},
     "output_type": "execute_result"
    }
   ],
   "source": [
    "df.head()"
   ],
   "metadata": {
    "collapsed": false,
    "ExecuteTime": {
     "end_time": "2024-02-14T20:59:13.061581154Z",
     "start_time": "2024-02-14T20:59:13.049712362Z"
    }
   },
   "id": "48fe8b8e937cc78d",
   "execution_count": 97
  },
  {
   "cell_type": "code",
   "outputs": [
    {
     "data": {
      "text/plain": "Index(['год', 'Hb', 'Er', 'Tr', 'Rt', 'Le', 'Lym', 'MCH', 'MCV', 'MCHC',\n       'Ig M', 'Ig G', 'трепан', 'миел:Ne', 'Lym.1', 'МКЦ', 'CD34', 'p', 'с'],\n      dtype='object')"
     },
     "execution_count": 98,
     "metadata": {},
     "output_type": "execute_result"
    }
   ],
   "source": [
    "df.columns"
   ],
   "metadata": {
    "collapsed": false,
    "ExecuteTime": {
     "end_time": "2024-02-14T20:59:14.316571642Z",
     "start_time": "2024-02-14T20:59:14.313547584Z"
    }
   },
   "id": "579e6d1394c9ce1c",
   "execution_count": 98
  },
  {
   "cell_type": "code",
   "outputs": [],
   "source": [
    "for row in range(len(df.columns)):\n",
    "    for column in range(len(df.iloc[row])):\n",
    "        if df.iloc[row, column] == '-':\n",
    "            df.iloc[row, column] = None"
   ],
   "metadata": {
    "collapsed": false,
    "ExecuteTime": {
     "end_time": "2024-02-14T20:59:15.607475275Z",
     "start_time": "2024-02-14T20:59:15.605474218Z"
    }
   },
   "id": "8aa3061f90b0cc15",
   "execution_count": 99
  },
  {
   "cell_type": "code",
   "outputs": [],
   "source": [
    "answer = []"
   ],
   "metadata": {
    "collapsed": false,
    "ExecuteTime": {
     "end_time": "2024-02-14T21:01:43.824134166Z",
     "start_time": "2024-02-14T21:01:43.777084298Z"
    }
   },
   "id": "b9e24a6f5d8978d7",
   "execution_count": 105
  },
  {
   "cell_type": "code",
   "outputs": [],
   "source": [
    "for column in df.columns:\n",
    "    data = df[column]\n",
    "    data = data.dropna()\n",
    "    answer.append([column, data.median(), data.quantile(0.25), data.quantile(0.75)])\n",
    "    # print(column, 'mediana is', data.median(), 'quantile 25 is', data.quantile(0.25), 'quantile 75 is', data.quantile(0.75))"
   ],
   "metadata": {
    "collapsed": false,
    "ExecuteTime": {
     "end_time": "2024-02-14T21:01:44.937007028Z",
     "start_time": "2024-02-14T21:01:44.922326208Z"
    }
   },
   "id": "e86c4a8c528592a2",
   "execution_count": 106
  },
  {
   "cell_type": "code",
   "outputs": [],
   "source": [
    "answerDF = pd.DataFrame(answer)"
   ],
   "metadata": {
    "collapsed": false,
    "ExecuteTime": {
     "end_time": "2024-02-14T21:02:02.799952133Z",
     "start_time": "2024-02-14T21:02:02.797588460Z"
    }
   },
   "id": "babd8e28bec62f17",
   "execution_count": 109
  },
  {
   "cell_type": "code",
   "outputs": [],
   "source": [
    "answerDF.columns = ['column', 'median', 'quantile0.25', 'quantile0.75']"
   ],
   "metadata": {
    "collapsed": false,
    "ExecuteTime": {
     "end_time": "2024-02-14T21:02:31.016127195Z",
     "start_time": "2024-02-14T21:02:30.972609309Z"
    }
   },
   "id": "13a139a5571fc3d",
   "execution_count": 110
  },
  {
   "cell_type": "code",
   "outputs": [],
   "source": [
    "answerDF.to_excel('./answer.xlsx')"
   ],
   "metadata": {
    "collapsed": false,
    "ExecuteTime": {
     "end_time": "2024-02-14T21:03:24.517779686Z",
     "start_time": "2024-02-14T21:03:24.508395885Z"
    }
   },
   "id": "4db2d2ad9c0e8020",
   "execution_count": 113
  },
  {
   "cell_type": "code",
   "outputs": [
    {
     "name": "stdout",
     "output_type": "stream",
     "text": [
      "answer.xlsx  file1.0.xlsx  file.xlsx  HASD.ipynb  PSM.ipynb  work.ipynb\r\n"
     ]
    }
   ],
   "source": [
    "!ls"
   ],
   "metadata": {
    "collapsed": false,
    "ExecuteTime": {
     "end_time": "2024-02-14T21:03:28.666461259Z",
     "start_time": "2024-02-14T21:03:28.549172347Z"
    }
   },
   "id": "f4c83b566c4b7a40",
   "execution_count": 114
  },
  {
   "cell_type": "code",
   "outputs": [],
   "source": [
    "df.to_excel('./file.2_0.xlsx')"
   ],
   "metadata": {
    "collapsed": false,
    "ExecuteTime": {
     "end_time": "2024-02-14T21:04:18.669916897Z",
     "start_time": "2024-02-14T21:04:18.655199581Z"
    }
   },
   "id": "668c11fc33982b97",
   "execution_count": 115
  },
  {
   "cell_type": "code",
   "outputs": [],
   "source": [],
   "metadata": {
    "collapsed": false
   },
   "id": "530ec2bba2b09e79"
  }
 ],
 "metadata": {
  "kernelspec": {
   "display_name": "Python 3",
   "language": "python",
   "name": "python3"
  },
  "language_info": {
   "codemirror_mode": {
    "name": "ipython",
    "version": 2
   },
   "file_extension": ".py",
   "mimetype": "text/x-python",
   "name": "python",
   "nbconvert_exporter": "python",
   "pygments_lexer": "ipython2",
   "version": "2.7.6"
  }
 },
 "nbformat": 4,
 "nbformat_minor": 5
}
